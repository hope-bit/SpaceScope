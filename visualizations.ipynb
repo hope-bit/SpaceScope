{
 "cells": [
  {
   "cell_type": "code",
   "execution_count": null,
   "metadata": {},
   "outputs": [],
   "source": [
    "import matplotlib.pyplot as plt\n",
    "import seaborn as sns\n",
    "from data_preparation import load_data\n",
    "\n",
    "# Load the data\n",
    "data = load_data()\n",
    "\n",
    "# Plotting a histogram of a selected feature (e.g., 'feature_column_name')\n",
    "plt.figure(figsize=(10, 6))\n",
    "sns.histplot(data['feature_column_name'], bins=30, kde=True, color='skyblue')\n",
    "plt.title('Distribution of Feature')\n",
    "plt.xlabel('Feature Value')\n",
    "plt.ylabel('Frequency')\n",
    "plt.show()\n",
    "\n",
    "\n",
    "plt.figure(figsize=(10, 6))\n",
    "plt.scatter(data['feature_x'], data['feature_y'], c=data['category_column'], cmap='viridis', alpha=0.6, edgecolors='w', s=100)\n",
    "plt.title('Scatter Plot of Feature X vs Feature Y')\n",
    "plt.xlabel('Feature X')\n",
    "plt.ylabel('Feature Y')\n",
    "plt.colorbar(label='Category')\n",
    "plt.show()\n"
   ]
  }
 ],
 "metadata": {
  "language_info": {
   "name": "python"
  }
 },
 "nbformat": 4,
 "nbformat_minor": 2
}
